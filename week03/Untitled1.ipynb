{
 "cells": [
  {
   "cell_type": "code",
   "execution_count": 4,
   "metadata": {},
   "outputs": [
    {
     "name": "stdout",
     "output_type": "stream",
     "text": [
      "Enter number: 4\n",
      "2\n",
      "Enter number: 2\n",
      "종료\n"
     ]
    }
   ],
   "source": [
    "def collatz(number):\n",
    "    \"\"\"짝수라면 number // 2, 홀수라면 3 * number + 1을 리턴\"\"\"\n",
    "    if (number%2==0):\n",
    "        return int(number/2)\n",
    "    else:\n",
    "        return number+1\n",
    "\n",
    "while True:\n",
    "    try:\n",
    "        number = int(input(\"Enter number: \"))\n",
    "        if(collatz(number)==1):\n",
    "            print(\"종료\")\n",
    "            break\n",
    "        else:\n",
    "            print(collatz(number))\n",
    "    except ValueError:\n",
    "        print(\"정수만 입력해라\")"
   ]
  },
  {
   "cell_type": "code",
   "execution_count": 32,
   "metadata": {},
   "outputs": [
    {
     "name": "stdout",
     "output_type": "stream",
     "text": [
      "apples, bananas, tofu, cats\n"
     ]
    }
   ],
   "source": [
    "spam = ['apples', 'bananas', 'tofu', 'cats']\n",
    "def comma(spam):\n",
    "    s = ', '.join(spam)\n",
    "    print(s)\n",
    "comma(spam)"
   ]
  },
  {
   "cell_type": "code",
   "execution_count": 24,
   "metadata": {},
   "outputs": [
    {
     "name": "stdout",
     "output_type": "stream",
     "text": [
      "rope 1\n",
      "torch 6\n",
      "gold coin 42\n",
      "dagger 1\n",
      "arrow 12\n"
     ]
    }
   ],
   "source": [
    "inventory = {'rope': 1, 'torch': 6, 'gold coin': 42, 'dagger': 1, 'arrow': 12}\n",
    "def displayInventory():\n",
    "    \"\"\"출력예제\n",
    "    Inventory:\n",
    "    12 arrow\n",
    "    42 gold coin\n",
    "    1 rope\n",
    "    6 torch\n",
    "    1 dagger\n",
    "    Total number of items: 62\"\"\"\n",
    "    pass\n",
    "    for name, value in inventory.items():\n",
    "            print  ('{} {}'.format(name,value))\n",
    "displayInventory()"
   ]
  },
  {
   "cell_type": "code",
   "execution_count": 54,
   "metadata": {},
   "outputs": [
    {
     "name": "stdout",
     "output_type": "stream",
     "text": [
      "\tapples\n",
      "\toranges\n",
      "\tcherries\n",
      "\tbanana\n",
      "\tAlice\n",
      "\tBob\n",
      "\tCarol\n",
      "\tDavid\n",
      "\tdogs\n",
      "\tcats\n",
      "\tmoose\n",
      "\tgoose\n"
     ]
    }
   ],
   "source": [
    "tableData = [['apples', 'oranges', 'cherries', 'banana'],\n",
    "             ['Alice', 'Bob', 'Carol', 'David'],\n",
    "             ['dogs', 'cats', 'moose', 'goose']]\n",
    "\n",
    "\n",
    "def printTable():\n",
    "    for i in tableData:\n",
    "        str = \"\"\n",
    "        for j in i:\n",
    "           str += j.rjust(10)\n",
    "        \n",
    "printTable()"
   ]
  }
 ],
 "metadata": {
  "kernelspec": {
   "display_name": "Python 3",
   "language": "python",
   "name": "python3"
  },
  "language_info": {
   "codemirror_mode": {
    "name": "ipython",
    "version": 3
   },
   "file_extension": ".py",
   "mimetype": "text/x-python",
   "name": "python",
   "nbconvert_exporter": "python",
   "pygments_lexer": "ipython3",
   "version": "3.6.2"
  }
 },
 "nbformat": 4,
 "nbformat_minor": 2
}
